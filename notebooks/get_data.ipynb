{
 "cells": [
  {
   "cell_type": "code",
   "execution_count": 5,
   "id": "cc112087",
   "metadata": {},
   "outputs": [],
   "source": [
    "from pycocotools.coco import COCO\n",
    "import requests\n",
    "import numpy as np\n",
    "import skimage.io as io\n",
    "import random\n",
    "import os\n",
    "import cv2\n",
    "from tensorflow.keras.preprocessing.image import ImageDataGenerator\n",
    "\n",
    "## For visualizing results\n",
    "import matplotlib.pyplot as plt\n",
    "import matplotlib.gridspec as gridspec\n",
    "%matplotlib inline"
   ]
  },
  {
   "cell_type": "markdown",
   "id": "e7ed3c59",
   "metadata": {},
   "source": [
    "# Downloading the images"
   ]
  },
  {
   "cell_type": "code",
   "execution_count": 16,
   "id": "9bb1c0e8",
   "metadata": {},
   "outputs": [
    {
     "name": "stdout",
     "output_type": "stream",
     "text": [
      "loading annotations into memory...\n",
      "Done (t=17.59s)\n",
      "creating index...\n",
      "index created!\n"
     ]
    }
   ],
   "source": [
    "# instantiate COCO specifying the annotations json path\n",
    "dataDir='./COCOdataset2017'\n",
    "dataType='train'\n",
    "annFile='{}/annotations/instances_{}2017.json'.format(dataDir,dataType)\n",
    "coco=COCO(annFile)\n",
    "# Specify a list of category names of interest\n",
    "catIds = coco.getCatIds(catNms=['sports ball'])\n",
    "# Get the corresponding image ids and images using loadImgs\n",
    "imgIds = coco.getImgIds(catIds=catIds)\n",
    "images = coco.loadImgs(imgIds)"
   ]
  },
  {
   "cell_type": "code",
   "execution_count": 21,
   "id": "148b5fc5",
   "metadata": {},
   "outputs": [],
   "source": [
    "# Save the images into a local folder\n",
    "for im in images:\n",
    "    img_data = requests.get(im['coco_url']).content\n",
    "    with open(\"./COCOdataset2017/images/train/\" + im['file_name'], 'wb') as handler:\n",
    "        handler.write(img_data)"
   ]
  },
  {
   "cell_type": "code",
   "execution_count": 22,
   "id": "5cfdaddc",
   "metadata": {},
   "outputs": [
    {
     "name": "stdout",
     "output_type": "stream",
     "text": [
      "loading annotations into memory...\n",
      "Done (t=0.64s)\n",
      "creating index...\n",
      "index created!\n"
     ]
    }
   ],
   "source": [
    "# instantiate COCO specifying the annotations json path\n",
    "dataDir='./COCOdataset2017'\n",
    "dataType='val'\n",
    "annFile='{}/annotations/instances_{}2017.json'.format(dataDir,dataType)\n",
    "coco=COCO(annFile)\n",
    "# Specify a list of category names of interest\n",
    "catIds = coco.getCatIds(catNms=['sports ball'])\n",
    "# Get the corresponding image ids and images using loadImgs\n",
    "imgIds = coco.getImgIds(catIds=catIds)\n",
    "images = coco.loadImgs(imgIds)"
   ]
  },
  {
   "cell_type": "code",
   "execution_count": 23,
   "id": "b026ecbe",
   "metadata": {},
   "outputs": [],
   "source": [
    "# Save the images into a local folder\n",
    "for im in images:\n",
    "    img_data = requests.get(im['coco_url']).content\n",
    "    with open(\"./COCOdataset2017/images/val/\" + im['file_name'], 'wb') as handler:\n",
    "        handler.write(img_data)"
   ]
  }
 ],
 "metadata": {
  "kernelspec": {
   "display_name": "Python 3 (ipykernel)",
   "language": "python",
   "name": "python3"
  },
  "language_info": {
   "codemirror_mode": {
    "name": "ipython",
    "version": 3
   },
   "file_extension": ".py",
   "mimetype": "text/x-python",
   "name": "python",
   "nbconvert_exporter": "python",
   "pygments_lexer": "ipython3",
   "version": "3.11.4"
  }
 },
 "nbformat": 4,
 "nbformat_minor": 5
}
