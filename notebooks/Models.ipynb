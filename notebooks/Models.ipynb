{
 "cells": [
  {
   "cell_type": "markdown",
   "id": "453965a9",
   "metadata": {},
   "source": [
    "# 1 CNNs"
   ]
  },
  {
   "cell_type": "raw",
   "id": "7da51ca1",
   "metadata": {},
   "source": [
    "We have to :\n",
    "- load the data\n",
    "- normalize it\n",
    "- augment it"
   ]
  },
  {
   "cell_type": "markdown",
   "id": "63f2c5e3",
   "metadata": {},
   "source": [
    "## 1.1 With MobileNetV2 as the encoder in a U-Net"
   ]
  },
  {
   "cell_type": "markdown",
   "id": "b63080a8",
   "metadata": {},
   "source": [
    "### 1.1.1 Fixed pre-trained parameters"
   ]
  },
  {
   "cell_type": "code",
   "execution_count": 2,
   "id": "f02d654f",
   "metadata": {},
   "outputs": [],
   "source": [
    "import torch\n",
    "import torch.nn as nn\n",
    "import torchvision.models as models\n",
    "import numpy as np\n",
    "import pandas as pd"
   ]
  },
  {
   "cell_type": "code",
   "execution_count": 7,
   "id": "c47fcb52",
   "metadata": {},
   "outputs": [
    {
     "name": "stderr",
     "output_type": "stream",
     "text": [
      "C:\\Users\\PC\\AppData\\Roaming\\Python\\Python311\\site-packages\\torchvision\\models\\_utils.py:208: UserWarning: The parameter 'pretrained' is deprecated since 0.13 and may be removed in the future, please use 'weights' instead.\n",
      "  warnings.warn(\n",
      "C:\\Users\\PC\\AppData\\Roaming\\Python\\Python311\\site-packages\\torchvision\\models\\_utils.py:223: UserWarning: Arguments other than a weight enum or `None` for 'weights' are deprecated since 0.13 and may be removed in the future. The current behavior is equivalent to passing `weights=MobileNet_V2_Weights.IMAGENET1K_V1`. You can also use `weights=MobileNet_V2_Weights.DEFAULT` to get the most up-to-date weights.\n",
      "  warnings.warn(msg)\n"
     ]
    }
   ],
   "source": [
    "class UNetMobileNetV2fixed(nn.Module):\n",
    "    def __init__(self, num_classes):\n",
    "        super(UNetMobileNetV2fixed, self).__init__()\n",
    "\n",
    "    \n",
    "        self.encoder = models.mobilenet_v2(pretrained=True).features\n",
    "        \n",
    "        ## Steps where we will extract the outputs for skip connections, can be changed\n",
    "        self.encoder_layers = [\n",
    "            self.encoder[0:2],\n",
    "            self.encoder[2:4],\n",
    "            self.encoder[4:7],\n",
    "            self.encoder[7:14],\n",
    "            self.encoder[14:19],\n",
    "            self.encoder[19:24],\n",
    "            self.encoder[24:],\n",
    "        ]\n",
    "        \n",
    "        ## The classifier part can be changed, it probably needs to be more complex when the the parameters of the pretrained model are fixed\n",
    "        self.classifier = nn.Sequential(\n",
    "            nn.Conv2d(320, 256, kernel_size=3, padding=1),\n",
    "            nn.ReLU(inplace=True),\n",
    "            nn.Conv2d(256, 256, kernel_size=3, padding=1),\n",
    "            nn.ReLU(inplace=True),\n",
    "            nn.Conv2d(256, num_classes, kernel_size=1)\n",
    "        )\n",
    "\n",
    "        self.upsample = nn.Upsample(scale_factor=2, mode='bilinear', align_corners=True)\n",
    "\n",
    "    def forward(self, x):\n",
    "        # Encoder\n",
    "        skips = []\n",
    "        for layer in self.encoder_layers:\n",
    "            x = layer(x)\n",
    "            skips.append(x)\n",
    "\n",
    "        # Decoder\n",
    "        x = skips[-1]\n",
    "        for skip in reversed(skips[:-1]):\n",
    "            x = self.upsample(x)\n",
    "            x = torch.cat((x, skip), dim=1)\n",
    "        \n",
    "        ## Classifier\n",
    "        x = self.classifier(x)\n",
    "\n",
    "        return x\n",
    "    \n",
    "num_classes = 3\n",
    "model = UNetMobileNetV2fixed(num_classes)"
   ]
  },
  {
   "cell_type": "markdown",
   "id": "67610dec",
   "metadata": {},
   "source": [
    "### 1.1.2 Non-fixed pre-trained parameters"
   ]
  },
  {
   "cell_type": "code",
   "execution_count": 8,
   "id": "ac6990ae",
   "metadata": {},
   "outputs": [],
   "source": [
    "class UNetMobileNetV2unfixed(nn.Module):\n",
    "    def __init__(self, num_classes):\n",
    "        super(UNetMobileNetV2unfixed, self).__init__()\n",
    "\n",
    "    \n",
    "        self.encoder = models.mobilenet_v2(pretrained=True).features\n",
    "        \n",
    "        ## The MobileNetV2 parameters are not fixed anymore\n",
    "        for param in model.encoder.parameters():\n",
    "            param.requires_grad = True\n",
    "        \n",
    "        ## Steps where we will extract the outputs for skip connections, can be changed\n",
    "        self.encoder_layers = [\n",
    "            self.encoder[0:2],\n",
    "            self.encoder[2:4],\n",
    "            self.encoder[4:7],\n",
    "            self.encoder[7:14],\n",
    "            self.encoder[14:19],\n",
    "            self.encoder[19:24],\n",
    "            self.encoder[24:],\n",
    "        ]\n",
    "        \n",
    "        ## The classifier part can be changed, it probably needs to be more complex when the the parameters of the pretrained model are fixed\n",
    "        self.classifier = nn.Sequential(\n",
    "            nn.Conv2d(320, 256, kernel_size=3, padding=1),\n",
    "            nn.ReLU(inplace=True),\n",
    "            nn.Conv2d(256, 256, kernel_size=3, padding=1),\n",
    "            nn.ReLU(inplace=True),\n",
    "            nn.Conv2d(256, num_classes, kernel_size=1)\n",
    "        )\n",
    "\n",
    "        self.upsample = nn.Upsample(scale_factor=2, mode='bilinear', align_corners=True)\n",
    "\n",
    "    def forward(self, x):\n",
    "        # Encoder\n",
    "        skips = []\n",
    "        for layer in self.encoder_layers:\n",
    "            x = layer(x)\n",
    "            skips.append(x)\n",
    "\n",
    "        # Decoder\n",
    "        x = skips[-1]\n",
    "        for skip in reversed(skips[:-1]):\n",
    "            x = self.upsample(x)\n",
    "            x = torch.cat((x, skip), dim=1)\n",
    "        \n",
    "        ## Classifier\n",
    "        x = self.classifier(x)\n",
    "\n",
    "        return x\n",
    "    \n",
    "num_classes = 3\n",
    "model = UNetMobileNetV2unfixed(num_classes)"
   ]
  },
  {
   "cell_type": "markdown",
   "id": "4d2b05fc",
   "metadata": {},
   "source": [
    "### 1.1.3 No pretrained weights"
   ]
  },
  {
   "cell_type": "code",
   "execution_count": 9,
   "id": "8399b0de",
   "metadata": {},
   "outputs": [
    {
     "name": "stderr",
     "output_type": "stream",
     "text": [
      "C:\\Users\\PC\\AppData\\Roaming\\Python\\Python311\\site-packages\\torchvision\\models\\_utils.py:223: UserWarning: Arguments other than a weight enum or `None` for 'weights' are deprecated since 0.13 and may be removed in the future. The current behavior is equivalent to passing `weights=None`.\n",
      "  warnings.warn(msg)\n"
     ]
    }
   ],
   "source": [
    "class UNetMobileNetV2untrained(nn.Module):\n",
    "    def __init__(self, num_classes):\n",
    "        super(UNetMobileNetV2untrained, self).__init__()\n",
    "\n",
    "    \n",
    "        self.encoder = models.mobilenet_v2(pretrained=False).features\n",
    "        \n",
    "        ## The MobileNetV2 parameters are not fixed anymore\n",
    "        for param in model.encoder.parameters():\n",
    "            param.requires_grad = True\n",
    "        \n",
    "        ## Steps where we will extract the outputs for skip connections, can be changed\n",
    "        self.encoder_layers = [\n",
    "            self.encoder[0:2],\n",
    "            self.encoder[2:4],\n",
    "            self.encoder[4:7],\n",
    "            self.encoder[7:14],\n",
    "            self.encoder[14:19],\n",
    "            self.encoder[19:24],\n",
    "            self.encoder[24:],\n",
    "        ]\n",
    "        \n",
    "        ## The classifier part can be changed, it probably needs to be more complex when the the parameters of the pretrained model are fixed\n",
    "        self.classifier = nn.Sequential(\n",
    "            nn.Conv2d(320, 256, kernel_size=3, padding=1),\n",
    "            nn.ReLU(inplace=True),\n",
    "            nn.Conv2d(256, 256, kernel_size=3, padding=1),\n",
    "            nn.ReLU(inplace=True),\n",
    "            nn.Conv2d(256, num_classes, kernel_size=1)\n",
    "        )\n",
    "\n",
    "        self.upsample = nn.Upsample(scale_factor=2, mode='bilinear', align_corners=True)\n",
    "\n",
    "    def forward(self, x):\n",
    "        # Encoder\n",
    "        skips = []\n",
    "        for layer in self.encoder_layers:\n",
    "            x = layer(x)\n",
    "            skips.append(x)\n",
    "\n",
    "        # Decoder\n",
    "        x = skips[-1]\n",
    "        for skip in reversed(skips[:-1]):\n",
    "            x = self.upsample(x)\n",
    "            x = torch.cat((x, skip), dim=1)\n",
    "        \n",
    "        ## Classifier\n",
    "        x = self.classifier(x)\n",
    "\n",
    "        return x\n",
    "    \n",
    "num_classes = 3\n",
    "model = UNetMobileNetV2untrained(num_classes)"
   ]
  },
  {
   "cell_type": "markdown",
   "id": "a0e11943",
   "metadata": {},
   "source": [
    "## 1.2 Custom UNet"
   ]
  },
  {
   "cell_type": "code",
   "execution_count": 10,
   "id": "2bcb7fef",
   "metadata": {},
   "outputs": [],
   "source": [
    "class CustomUnet_utils(nn.Module):\n",
    "    def __init__(self):\n",
    "        super(CustomUnet_utils, self).__init__()\n",
    "        \n",
    "    def down(self, in_channels, out_channels):\n",
    "        \n",
    "        return nn.Sequential(\n",
    "            nn.MaxPool2d(2),\n",
    "            nn.Conv2d(in_channels, in_channels, kernel_size=3, padding=1),\n",
    "            nn.BatchNorm2d(in_channels),\n",
    "            nn.ReLU(inplace=True),\n",
    "            nn.Conv2d(in_channels, out_channels, kernel_size=3, padding=1),\n",
    "            nn.BatchNorm2d(out_channels),\n",
    "            nn.ReLU(inplace=True)\n",
    "        )\n",
    "    \n",
    "    def up(self, in_channels, mid_channels, out_channels):\n",
    "        \n",
    "        return nn.Sequential(\n",
    "            nn.Upsample(scale_factor=2, mode='bilinear', align_corners=True),\n",
    "            nn.Conv2d(in_channels, mid_channels, kernel_size=3, padding=1),\n",
    "            nn.BatchNorm2d(mid_channels),\n",
    "            nn.ReLU(inplace=True),\n",
    "            nn.Conv2d(mid_channels, out_channels, kernel_size=3, padding=1),\n",
    "            nn.BatchNorm2d(out_channels),\n",
    "            nn.ReLU(inplace=True)\n",
    "        )\n",
    "        \n",
    "        "
   ]
  },
  {
   "cell_type": "code",
   "execution_count": 11,
   "id": "9e5c5d41",
   "metadata": {},
   "outputs": [],
   "source": [
    "class CustomUnet(nn.Module):\n",
    "    def __init__(self, num_channels, num_classes):\n",
    "        super(CustomUnet, self).__init__()\n",
    "        \n",
    "        self.num_channels = num_channels\n",
    "        self.num_classes = num_classes\n",
    "\n",
    "        self.input_layer = nn.Sequential(\n",
    "            nn.\n",
    "            (num_channels, num_channels, kernel_size=3, padding=1),\n",
    "            nn.BatchNorm2d(3),\n",
    "            nn.ReLU(inplace=True),\n",
    "            nn.Conv2d(num_channels, 64, kernel_size=3, padding=1),\n",
    "            nn.BatchNorm2d(64),\n",
    "            nn.ReLU(inplace=True)\n",
    "        )\n",
    "        self.down1 = CustomUnet_utils().down(64, 128)\n",
    "        self.down2 = CustomUnet_utils().down(128, 256)\n",
    "        self.down3 = CustomUnet_utils().down(256, 512)\n",
    "        self.down4 = CustomUnet_utils().down(512, 512)\n",
    "        \n",
    "        \n",
    "        self.up1 = CustomUnet_utils().up(1024, 512, 256)\n",
    "        self.up2 = CustomUnet_utils().up(512, 256, 128)\n",
    "        self.up3 = CustomUnet_utils().up(256, 128, 64)\n",
    "        self.up3 = CustomUnet_utils().up(128, 64, 64)\n",
    "        \n",
    "        ## the kernel size is weird, we'll probably change it\n",
    "        self.output_layer = nn.Conv2d(64, num_classes, kernel_size=1)\n",
    "\n",
    "    def forward(self, x):\n",
    "        \n",
    "        x1 = self.input_layer(x)\n",
    "        x2 = self.down1(x1)\n",
    "        x3 = self.down2(x2)\n",
    "        x4 = self.down3(x3)\n",
    "        x5 = self.down4(x4)\n",
    "        x = self.up1(x5, x4)\n",
    "        x = self.up2(x, x3)\n",
    "        x = self.up3(x, x2)\n",
    "        x = self.up4(x, x1)\n",
    "        logits = self.output_layer(x)\n",
    "        \n",
    "        return logits\n",
    "    \n",
    "num_channels = 3\n",
    "num_classes = 3\n",
    "model = CustomUnet(num_channels, num_classes)"
   ]
  },
  {
   "cell_type": "code",
   "execution_count": null,
   "id": "686ab1f9",
   "metadata": {},
   "outputs": [],
   "source": [
    "loss_fn = torch.nn.CrossEntropyLoss()\n",
    "optimizer = torch.optim.Adam(model.parameters(), lr=0.001)"
   ]
  },
  {
   "cell_type": "code",
   "execution_count": null,
   "id": "85371077",
   "metadata": {},
   "outputs": [],
   "source": [
    "def train_one_epoch(epoch_index, training_loader, loss_fn = torch.nn.CrossEntropyLoss(), optimizer = torch.optim.Adam(model.parameters(), lr=0.001)):\n",
    "    running_loss = 0.\n",
    "    last_loss = 0.\n",
    "\n",
    "    for i, data in enumerate(training_loader):\n",
    "        inputs, labels = data\n",
    "\n",
    "        optimizer.zero_grad()\n",
    "\n",
    "        outputs = model(inputs)\n",
    "\n",
    "        loss = loss_fn(outputs, labels)\n",
    "        loss.backward()\n",
    "\n",
    "        optimizer.step()\n",
    "\n",
    "        running_loss += loss.item()\n",
    "        if i % 1000 == 999:\n",
    "            last_loss = running_loss / 1000 \n",
    "            print('  batch {} loss: {}'.format(i + 1, last_loss))\n",
    "            running_loss = 0.\n",
    "\n",
    "    return last_loss"
   ]
  },
  {
   "cell_type": "code",
   "execution_count": null,
   "id": "79798dc6",
   "metadata": {},
   "outputs": [],
   "source": [
    "def train_all(model, epochs = 5, training_loader, validation_loader):\n",
    "    \n",
    "    for epoch in range(epochs):\n",
    "        print('EPOCH {}:'.format(epoch + 1))\n",
    "\n",
    "        model.train(True)\n",
    "        avg_loss = train_one_epoch(epoch, training_loader)\n",
    "\n",
    "        running_vloss = 0.0\n",
    "        model.eval()\n",
    "\n",
    "        with torch.no_grad():\n",
    "            for i, vdata in enumerate(validation_loader):\n",
    "                vinputs, vlabels = vdata\n",
    "                voutputs = model(vinputs)\n",
    "                vloss = loss_fn(voutputs, vlabels)\n",
    "                running_vloss += vloss\n",
    "\n",
    "        avg_vloss = running_vloss / (i + 1)\n",
    "        print('LOSS train {} valid {}'.format(avg_loss, avg_vloss))"
   ]
  },
  {
   "cell_type": "code",
   "execution_count": 23,
   "id": "a15a5c36",
   "metadata": {},
   "outputs": [
    {
     "data": {
      "text/plain": [
       "(0, 0)"
      ]
     },
     "execution_count": 23,
     "metadata": {},
     "output_type": "execute_result"
    }
   ],
   "source": [
    "a = np.array([[5,1],[2,3]])\n",
    "np.unravel_index(np.argmax(a), a.shape)"
   ]
  },
  {
   "cell_type": "code",
   "execution_count": 7,
   "id": "18ae96b8",
   "metadata": {},
   "outputs": [
    {
     "ename": "RuntimeError",
     "evalue": "Boolean value of Tensor with more than one value is ambiguous",
     "output_type": "error",
     "traceback": [
      "\u001b[1;31m---------------------------------------------------------------------------\u001b[0m",
      "\u001b[1;31mRuntimeError\u001b[0m                              Traceback (most recent call last)",
      "Cell \u001b[1;32mIn[7], line 3\u001b[0m\n\u001b[0;32m      1\u001b[0m a \u001b[38;5;241m=\u001b[39m torch\u001b[38;5;241m.\u001b[39mtensor([[\u001b[38;5;241m0\u001b[39m,\u001b[38;5;241m1\u001b[39m],[\u001b[38;5;241m0\u001b[39m,\u001b[38;5;241m1\u001b[39m]])\n\u001b[0;32m      2\u001b[0m b \u001b[38;5;241m=\u001b[39m torch\u001b[38;5;241m.\u001b[39mtensor([[\u001b[38;5;241m1\u001b[39m,\u001b[38;5;241m1\u001b[39m],[\u001b[38;5;241m0\u001b[39m,\u001b[38;5;241m1\u001b[39m]])\n\u001b[1;32m----> 3\u001b[0m torch\u001b[38;5;241m.\u001b[39msum((a \u001b[38;5;241m==\u001b[39m \u001b[38;5;241m1\u001b[39m) \u001b[38;5;129;01mand\u001b[39;00m (b \u001b[38;5;241m==\u001b[39m \u001b[38;5;241m1\u001b[39m))\n",
      "\u001b[1;31mRuntimeError\u001b[0m: Boolean value of Tensor with more than one value is ambiguous"
     ]
    }
   ],
   "source": [
    "a = torch.tensor([[0,1],[0,1]])\n",
    "b = torch.tensor([[1,1],[0,1]])\n",
    "torch.sum((a == 1) and (b == 1))"
   ]
  },
  {
   "cell_type": "code",
   "execution_count": null,
   "id": "027b55fb",
   "metadata": {},
   "outputs": [],
   "source": [
    "torch.sum()"
   ]
  },
  {
   "cell_type": "markdown",
   "id": "b8f93a81",
   "metadata": {},
   "source": [
    "# 2 Transformers"
   ]
  },
  {
   "cell_type": "markdown",
   "id": "818c8919",
   "metadata": {},
   "source": [
    "## 2.1 With HuggingFace's AutoModelForSemanticSegmentation"
   ]
  }
 ],
 "metadata": {
  "kernelspec": {
   "display_name": "Python 3 (ipykernel)",
   "language": "python",
   "name": "python3"
  },
  "language_info": {
   "codemirror_mode": {
    "name": "ipython",
    "version": 3
   },
   "file_extension": ".py",
   "mimetype": "text/x-python",
   "name": "python",
   "nbconvert_exporter": "python",
   "pygments_lexer": "ipython3",
   "version": "3.11.4"
  }
 },
 "nbformat": 4,
 "nbformat_minor": 5
}
